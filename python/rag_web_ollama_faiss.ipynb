{
 "cells": [
  {
   "cell_type": "code",
   "execution_count": 1,
   "id": "b2643936",
   "metadata": {
    "scrolled": true
   },
   "outputs": [
    {
     "data": {
      "application/vnd.jupyter.widget-view+json": {
       "model_id": "32120e811b3b428b9b53fed56925078a",
       "version_major": 2,
       "version_minor": 0
      },
      "text/plain": [
       "Scraping items:   0%|          | 0/3 [00:00<?, ?it/s]"
      ]
     },
     "metadata": {},
     "output_type": "display_data"
    },
    {
     "data": {
      "application/vnd.jupyter.widget-view+json": {
       "model_id": "1b73711bbf594f4daf92737bcff8d489",
       "version_major": 2,
       "version_minor": 0
      },
      "text/plain": [
       "Partitioning text:   0%|          | 0/95 [00:00<?, ?it/s]"
      ]
     },
     "metadata": {},
     "output_type": "display_data"
    },
    {
     "data": {
      "application/vnd.jupyter.widget-view+json": {
       "model_id": "6946132a665b4df3939ecb5bd3a629d9",
       "version_major": 2,
       "version_minor": 0
      },
      "text/plain": [
       "Embedding partitions:   0%|          | 0/5 [00:00<?, ?it/s]"
      ]
     },
     "metadata": {},
     "output_type": "display_data"
    }
   ],
   "source": [
    "import time\n",
    "import faiss\n",
    "import json\n",
    "import requests\n",
    "import numpy as np\n",
    "from bs4 import BeautifulSoup\n",
    "from selenium import webdriver\n",
    "from selenium.webdriver.chrome.service import Service\n",
    "from selenium.webdriver.chrome.options import Options\n",
    "from urllib.parse import urljoin\n",
    "from tqdm.notebook import tqdm\n",
    "\n",
    "ollama_url_inf = \"http://localhost:11434/api/show\"\n",
    "ollama_url_emb = \"http://localhost:11434/api/embeddings\"\n",
    "ollama_url_gen = \"http://localhost:11434/api/generate\"\n",
    "ollama_model_name = \"llama3.2:latest\"\n",
    "\n",
    "base_url = 'https://en.wikipedia.org/wiki/Bangladesh'\n",
    "\n",
    "VERBOSE = False\n",
    "\n",
    "# Configure Selenium Chrome options\n",
    "chrome_options = Options()\n",
    "chrome_options.add_argument('--headless')\n",
    "chrome_options.add_argument('--disable-gpu')\n",
    "chrome_options.add_argument('--no-sandbox')\n",
    "chrome_options.add_argument('--disable-dev-shm-usage')\n",
    "\n",
    "service = Service()\n",
    "driver = webdriver.Chrome(service=service, options=chrome_options)\n",
    "\n",
    "def get_visitable_links(base_url):\n",
    "    driver.get(base_url)\n",
    "    time.sleep(1)\n",
    "    soup = BeautifulSoup(driver.page_source, 'html.parser')\n",
    "    links = []\n",
    "    for a_tag in soup.find_all('a', href=True):\n",
    "        full_url = urljoin(base_url, a_tag['href'])\n",
    "        if '#' not in full_url and '%' not in full_url and full_url.startswith(base_url) and full_url not in links:\n",
    "            links.append(full_url)\n",
    "    return links\n",
    "\n",
    "def scrape_text_from_url(url):\n",
    "    driver.get(url)\n",
    "    time.sleep(1)\n",
    "    soup = BeautifulSoup(driver.page_source, 'html.parser')\n",
    "    text_content = ' '.join([p.get_text() for p in soup.find_all('p')])\n",
    "    text_content = ' '.join(text_content.split())\n",
    "    return text_content\n",
    "\n",
    "def partition_text(text, max_length):\n",
    "    sentences = text.split('. ')\n",
    "    partitions = []\n",
    "    current_part = []\n",
    "    current_length = 0\n",
    "    \n",
    "    for sentence in tqdm(sentences, desc=\"Partitioning text\"):\n",
    "        current_length += len(sentence.split())\n",
    "        current_part.append(sentence)\n",
    "        \n",
    "        if current_length > max_length:\n",
    "            partitions.append('. '.join(current_part))\n",
    "            current_part = []\n",
    "            current_length = 0\n",
    "\n",
    "    if current_part:\n",
    "        partitions.append('. '.join(current_part))\n",
    "\n",
    "    return partitions\n",
    "\n",
    "\n",
    "def get_embedding_shape():\n",
    "    payload = { \"model\": ollama_model_name }\n",
    "    headers = {\"Content-Type\": \"application/json\"}\n",
    "    response = requests.post(ollama_url_inf, headers=headers, data=json.dumps(payload))\n",
    "\n",
    "    if response.status_code == 200:\n",
    "        result = response.json()\n",
    "        if 'model_info' in result and 'llama.embedding_length' in result['model_info']:\n",
    "            embedding_length = result['model_info'][\"llama.embedding_length\"]\n",
    "            return embedding_length\n",
    "        else:\n",
    "            print(\"ERROR: Embedding length not found in the model info.\")\n",
    "            return 0\n",
    "    else:\n",
    "        print(f\"ERROR: Error from Ollama: {response.status_code}\")\n",
    "        return 0\n",
    "\n",
    "def get_embedding(text):\n",
    "    payload = { \"model\": ollama_model_name, \"prompt\": text}\n",
    "    headers = {\"Content-Type\": \"application/json\"}\n",
    "    response = requests.post(ollama_url_emb, headers=headers, data=json.dumps(payload))\n",
    "\n",
    "    if response.status_code == 200:\n",
    "        result = response.json()\n",
    "        embedding = np.array(result['embedding'])\n",
    "        return embedding\n",
    "    else:\n",
    "        print(f\"ERROR: Error from Ollama: {response.status_code}\")\n",
    "        return np.zeros(768)  # (adjust dimension based on model)\n",
    "\n",
    "def store_in_faiss(partitions):\n",
    "    dimension = get_embedding_shape()\n",
    "    if VERBOSE:\n",
    "        print(f\"Models embedding dimension: {dimension}\")\n",
    "    index = faiss.IndexFlatL2(dimension)  # L2 distance\n",
    "\n",
    "    doc_vectors = []\n",
    "    doc_ids = []\n",
    "    \n",
    "    for i, partition in tqdm(enumerate(partitions), total=len(partitions), desc=\"Embedding partitions\"):\n",
    "        embedding = get_embedding(partition)\n",
    "        index.add(np.array([embedding]))\n",
    "        doc_vectors.append(embedding)\n",
    "        doc_ids.append(i)\n",
    "    \n",
    "    return index, doc_ids\n",
    "\n",
    "def retrieve_with_rag(query, faiss_index, doc_ids, k=2):\n",
    "    query_embedding = get_embedding(query)\n",
    "    distances, indices = faiss_index.search(np.array([query_embedding]), k=k)  # Retrieve top-1 closest documents\n",
    "    retrieved_docs = []\n",
    "    for i in tqdm(indices[0], desc=\"Retrieving documents\"):\n",
    "        if i >= len(partitions):\n",
    "            print(f\"WARN: Index {i} out of bounds for partition list.\")\n",
    "            continue\n",
    "        doc_id = doc_ids[i]\n",
    "        retrieved_docs.append(partitions[doc_id])\n",
    "    combined_docs = \"\\n\".join(retrieved_docs)\n",
    "    rag_prompt = f\"Context:\\n{combined_docs}\\n\\nQuery: {query}\\nAnswer:\"\n",
    "    payload = {\"model\": ollama_model_name, \"prompt\": rag_prompt, \"stream\": False}\n",
    "    response = requests.post(ollama_url_gen, headers={\"Content-Type\": \"application/json\"}, \n",
    "                             data=json.dumps(payload))\n",
    "    return response.json()\n",
    "\n",
    "def ask(query):\n",
    "    rag_response = retrieve_with_rag(query, faiss_index, doc_ids)\n",
    "    return rag_response[\"response\"]\n",
    "\n",
    "valid_links = get_visitable_links(base_url)[1:4]\n",
    "\n",
    "if VERBOSE:\n",
    "    print(f\"Found {len(valid_links)} valid links. Scraping the content...\")\n",
    "\n",
    "all_text = \"\"\n",
    "for link in tqdm(valid_links, desc=\"Scraping items\"):\n",
    "    text_content = scrape_text_from_url(link)\n",
    "    all_text += text_content + \"\\n\\n\"\n",
    "\n",
    "partitions = partition_text(all_text, max_length=512)\n",
    "\n",
    "if VERBOSE:\n",
    "    print(f'Total partition count: {len(partitions)}')\n",
    "\n",
    "# Store the partitions in FAISS\n",
    "faiss_index, doc_ids = store_in_faiss(partitions)"
   ]
  },
  {
   "cell_type": "code",
   "execution_count": 2,
   "id": "a2ea9865",
   "metadata": {
    "scrolled": true
   },
   "outputs": [
    {
     "data": {
      "application/vnd.jupyter.widget-view+json": {
       "model_id": "2436160a75b14a47bd240196e6b63daf",
       "version_major": 2,
       "version_minor": 0
      },
      "text/plain": [
       "Retrieving documents:   0%|          | 0/2 [00:00<?, ?it/s]"
      ]
     },
     "metadata": {},
     "output_type": "display_data"
    },
    {
     "data": {
      "text/plain": [
       "'Bangladesh is located in South Asia, centered on the transnational historical region of Bengal along the eponymous bay.'"
      ]
     },
     "execution_count": 2,
     "metadata": {},
     "output_type": "execute_result"
    }
   ],
   "source": [
    "ask(\"Where is Bangladesh located?\")"
   ]
  },
  {
   "cell_type": "code",
   "execution_count": 4,
   "id": "14eba343",
   "metadata": {},
   "outputs": [
    {
     "data": {
      "application/vnd.jupyter.widget-view+json": {
       "model_id": "3cd22b7b644b4b71b08dbf63a1b2f7a7",
       "version_major": 2,
       "version_minor": 0
      },
      "text/plain": [
       "Retrieving documents:   0%|          | 0/2 [00:00<?, ?it/s]"
      ]
     },
     "metadata": {},
     "output_type": "display_data"
    },
    {
     "data": {
      "text/plain": [
       "\"Bangladesh is known for its cultural pluralism, with a Bengali Muslim majority that coexists with various ethnic groups. The country has a strong tradition of social hierarchy, with patrilineal kin ties and extended family structures playing important roles in village life. However, modernization and urbanization have led to changes in traditional sources of prestige, such as landholding and religious piety, being replaced by education, income, and steady work.\\n\\nThe country's cultural identity is deeply rooted in the Bengali language and its rich traditions, with a strong emphasis on secularism and community. The traditional village structure consists of extended family units, social associations, and councils that settle disputes and maintain social order.\\n\\nIn recent years, there has been an increasing shift towards urbanization, with 34% of Bangladeshis living in cities in 2015. This has led to the growth of urban centers and the development of new forms of community and identity.\\n\\nOverall, Bangladeshi culture is characterized by its rich diversity, strong social ties, and evolving nature, shaped by both traditional and modern influences.\""
      ]
     },
     "execution_count": 4,
     "metadata": {},
     "output_type": "execute_result"
    }
   ],
   "source": [
    "ask(\"Summarize the culture of Bangladesh\")\n",
    "\n",
    "# Close the Selenium browser\n",
    "#driver.quit()"
   ]
  }
 ],
 "metadata": {
  "kernelspec": {
   "display_name": "Python 3 (ipykernel)",
   "language": "python",
   "name": "python3"
  },
  "language_info": {
   "codemirror_mode": {
    "name": "ipython",
    "version": 3
   },
   "file_extension": ".py",
   "mimetype": "text/x-python",
   "name": "python",
   "nbconvert_exporter": "python",
   "pygments_lexer": "ipython3",
   "version": "3.11.5"
  }
 },
 "nbformat": 4,
 "nbformat_minor": 5
}
