{
 "cells": [
  {
   "cell_type": "code",
   "execution_count": 29,
   "id": "3915c679",
   "metadata": {},
   "outputs": [
    {
     "name": "stdout",
     "output_type": "stream",
     "text": [
      "processing url: https://en.wikipedia.org/wiki/Cognitive_bias\n",
      "processing url: https://en.wikipedia.org/wiki/Cognitive_bias_in_animals\n",
      "processing url: https://en.wikipedia.org/wiki/Cognitive_bias_modification\n",
      "processing url: https://en.wikipedia.org/wiki/Cognitive_bias_mitigation\n"
     ]
    }
   ],
   "source": [
    "from selenium import webdriver\n",
    "from selenium.webdriver.chrome.service import Service\n",
    "from selenium.webdriver.common.by import By\n",
    "from selenium.webdriver.chrome.options import Options\n",
    "from selenium.webdriver.common.keys import Keys\n",
    "from selenium.webdriver.support.ui import WebDriverWait\n",
    "from selenium.webdriver.support import expected_conditions as EC\n",
    "from bs4 import BeautifulSoup\n",
    "import re\n",
    "from urllib.parse import urljoin, urlparse\n",
    "\n",
    "chrome_options = Options()\n",
    "chrome_options.add_argument('--headless')\n",
    "chrome_options.add_argument('--disable-gpu')\n",
    "chrome_options.add_argument('--no-sandbox')\n",
    "chrome_options.add_argument('--disable-dev-shm-usage')\n",
    "\n",
    "service = Service()\n",
    "driver = webdriver.Chrome(service=service, options=chrome_options)\n",
    "\n",
    "def login_and_scrape(root_url, username, password):\n",
    "    visited_urls = set()\n",
    "    urls_to_scrape = set([root_url])\n",
    "    scraped_texts = []\n",
    "\n",
    "    driver.get(root_url)\n",
    "\n",
    "    # Example login mechanism\n",
    "    # WebDriverWait(driver, 10).until(EC.presence_of_element_located((By.NAME, 'username'))).send_keys(username)\n",
    "    # driver.find_element(By.NAME, 'password').send_keys(password)\n",
    "    # driver.find_element(By.NAME, 'password').send_keys(Keys.RETURN)\n",
    "    \n",
    "    while urls_to_scrape:\n",
    "        url = urls_to_scrape.pop()\n",
    "        normalized_url = normalize_url(url, root_url)\n",
    "        if normalized_url in visited_urls:\n",
    "            continue\n",
    "\n",
    "        print(\"processing url: \" + url)\n",
    "        driver.get(url)\n",
    "        WebDriverWait(driver, 10).until(EC.presence_of_element_located((By.TAG_NAME, 'body')))\n",
    "        soup = BeautifulSoup(driver.page_source, 'html.parser')\n",
    "        \n",
    "        text_content = ' '.join([p.get_text() for p in soup.find_all('p')])\n",
    "        text_content = ' '.join(text_content.split())\n",
    "    \n",
    "        scraped_texts.append(clean_text(text_content))\n",
    "        visited_urls.add(normalized_url)\n",
    "\n",
    "        # Find and filter links, ensuring only URLs within the root domain are added\n",
    "        links = [normalize_url(urljoin(url, a['href']), root_url) for a in soup.find_all('a', href=True)]\n",
    "        valid_links = [link for link in links if link.startswith(root_url) and '?' not in link and '#' not in link]\n",
    "        urls_to_scrape.update(valid_links)\n",
    "\n",
    "    return scraped_texts\n",
    "\n",
    "def normalize_url(url, root_url):\n",
    "    # Normalize the URL by joining with the root URL\n",
    "    return urljoin(root_url, url)\n",
    "\n",
    "def clean_text(text):\n",
    "    text = re.sub(r'\\s+', ' ', text)  # Remove excessive whitespace\n",
    "    return re.sub(r'[^a-zA-Z0-9,.!? ]+', '', text).strip()  # Remove special characters\n",
    "\n",
    "scraped_data = login_and_scrape(\"https://en.wikipedia.org/wiki/Cognitive_bias\", \"hissain\", \"1234\")\n",
    "#print(scraped_data[:100])\n",
    "\n",
    "#driver.quit()\n"
   ]
  },
  {
   "cell_type": "code",
   "execution_count": 31,
   "id": "66211d27",
   "metadata": {},
   "outputs": [
    {
     "data": {
      "text/plain": [
       "14284"
      ]
     },
     "execution_count": 31,
     "metadata": {},
     "output_type": "execute_result"
    }
   ],
   "source": [
    "len(scraped_data[0])"
   ]
  },
  {
   "cell_type": "code",
   "execution_count": 30,
   "id": "046f8294",
   "metadata": {},
   "outputs": [
    {
     "data": {
      "text/plain": [
       "'The Bangla Wikivoyage Article Contest 2024 is now underway. Participate for a chance to win prizes! A cognitive bias is a systematic pattern of deviation from norm or rationality in judgment.1 Individuals create their own subjective reality from their perception of the input. An individuals construction of reality, not the objective input, may dictate their behavior in the world. Thus, cognitive biases may sometimes lead to perceptual distortion, inaccurate judgment, illogical interpretation, and irrationality.234 While cognitive biases may initially appear to be negative, some are adaptive. They may lead to more effective actions in a given context.5 Furthermore, allowing cognitive biases enables faster decisions which can be desirable when timeliness is more valuable than accuracy, as illustrated in heuristics.6 Other cognitive biases are a byproduct of human processing limitations,1 resulting from a lack of appropriate mental mechanisms bounded rationality, the impact of an individuals constitution and biological state see embodied cognition, or simply from a limited capacity for information processing.78 Research suggests that cognitive biases can make individuals more inclined to endorsing pseudoscientific beliefs by requiring less evidence for claims that confirm their preconceptions. This can potentially distort their perceptions and lead to inaccurate judgments.9 A continually evolving list of cognitive biases has been identified over the last six decades of research on human judgment and decisionmaking in cognitive science, social psychology, and behavioral economics. The study of cognitive biases has practical implications for areas including clinical judgment, entrepreneurship, finance, and management.1011 The notion of cognitive biases was introduced by Amos Tversky and Daniel Kahneman in 197212 and grew out of their experience of peoples innumeracy, or inability to reason intuitively with the greater orders of magnitude. Tversky, Kahneman, and colleagues demonstrated several replicable ways in which human judgments and decisions differ from rational choice theory. Tversky and Kahneman explained human differences in judgment and decisionmaking in terms of heuristics. Heuristics involve mental shortcuts which provide swift estimates about the possibility of uncertain occurrences.13 Heuristics are simple for the brain to compute but sometimes introduce severe and systematic errors.6 For example, the representativeness heuristic is defined as The tendency to judge the frequency or likelihood of an occurrence by the extent of which the event resembles the typical case.13 The Linda Problem illustrates the representativeness heuristic Tversky  Kahneman, 198314. Participants were given a description of Linda that suggests Linda might well be a feminist e.g., she is said to be concerned about discrimination and social justice issues. They were then asked whether they thought Linda was more likely to be a a bank teller or b a bank teller and active in the feminist movement. A majority chose answer b. Independent of the information given about Linda, though, the more restrictive answer b is under any circumstance statistically less likely than answer a. This is an example of the conjunction fallacy. Tversky and Kahneman argued that respondents chose b because it seemed more representative or typical of persons who might fit the description of Linda. The representativeness heuristic may lead to errors such as activating stereotypes and inaccurate judgments of others Haselton et al., 2005, p. 726. Critics of Kahneman and Tversky, such as Gerd Gigerenzer, alternatively argued that heuristics should not lead us to conceive of human thinking as riddled with irrational cognitive biases. They should rather conceive rationality as an adaptive tool, not identical to the rules of formal logic or the probability calculus.15 Nevertheless, experiments such as the Linda problem grew into heuristics and biases research programs, which spread beyond academic psychology into other disciplines including medicine and political science. Biases can be distinguished on a number of dimensions. Examples of cognitive biases include  Other biases are due to the particular way the brain perceives, forms memories and makes judgments. This distinction is sometimes described as hot cognition versus cold cognition, as motivated reasoning can involve a state of arousal. Among the cold biases, As some biases reflect motivation specifically the motivation to have positive attitudes to oneself.20 It accounts for the fact that many biases are selfmotivated or selfdirected e.g., illusion of asymmetric insight, selfserving bias. There are also biases in how subjects evaluate ingroups or outgroups evaluating ingroups as more diverse and better in many respects, even when those groups are arbitrarily defined ingroup bias, outgroup homogeneity bias. Some cognitive biases belong to the subgroup of attentional biases, which refers to paying increased attention to certain stimuli. It has been shown, for example, that people addicted to alcohol and other drugs pay more attention to drugrelated stimuli. Common psychological tests to measure those biases are the Stroop task2122 and the dot probe task. Individuals susceptibility to some types of cognitive biases can be measured by the Cognitive Reflection Test CRT developed by Shane Frederick 2005.2324 The following is a list of the more commonly studied cognitive biases Many social institutions rely on individuals to make rational judgments. The securities regulation regime largely assumes that all investors act as perfectly rational persons. In truth, actual investors face cognitive limitations from biases, heuristics, and framing effects. A fair jury trial, for example, requires that the jury ignore irrelevant features of the case, weigh the relevant features appropriately, consider different possibilities openmindedly and resist fallacies such as appeal to emotion. The various biases demonstrated in these psychological experiments suggest that people will frequently fail to do all these things.35 However, they fail to do so in systematic, directional ways that are predictable.4 In some academic disciplines, the study of bias is very popular. For instance, bias is a wide spread and well studied phenomenon because most decisions that concern the minds and hearts of entrepreneurs are computationally intractable.11 Cognitive biases can create other issues that arise in everyday life. One study showed the connection between cognitive bias, specifically approach bias, and inhibitory control on how much unhealthy snack food a person would eat.36 They found that the participants who ate more of the unhealthy snack food, tended to have less inhibitory control and more reliance on approach bias. Others have also hypothesized that cognitive biases could be linked to various eating disorders and how people view their bodies and their body image.3738 It has also been argued that cognitive biases can be used in destructive ways.39 Some believe that there are people in authority who use cognitive biases and heuristics in order to manipulate others so that they can reach their end goals. Some medications and other health care treatments rely on cognitive biases in order to persuade others who are susceptible to cognitive biases to use their products. Many see this as taking advantage of ones natural struggle of judgement and decisionmaking. They also believe that it is the governments responsibility to regulate these misleading ads. Cognitive biases also seem to play a role in property sale price and value. Participants in the experiment were shown a residential property.40 Afterwards, they were shown another property that was completely unrelated to the first property. They were asked to say what they believed the value and the sale price of the second property would be. They found that showing the participants an unrelated property did have an effect on how they valued the second property. Cognitive biases can be used in nondestructive ways. In team science and collective problemsolving, the superiority bias can be beneficial. It leads to a diversity of solutions within a group, especially in complex problems, by preventing premature consensus on suboptimal solutions. This example demonstrates how a cognitive bias, typically seen as a hindrance, can enhance collective decisionmaking by encouraging a wider exploration of possibilities.41 Because they cause systematic errors, cognitive biases cannot be compensated for using a wisdom of the crowd technique of averaging answers from several people.42 Debiasing is the reduction of biases in judgment and decisionmaking through incentives, nudges, and training. Cognitive bias mitigation and cognitive bias modification are forms of debiasing specifically applicable to cognitive biases and their effects. Reference class forecasting is a method for systematically debiasing estimates and decisions, based on what Daniel Kahneman has dubbed the outside view. Similar to Gigerenzer 1996,43 Haselton et al. 2005 state the content and direction of cognitive biases are not arbitrary p. 730.1 Moreover, cognitive biases can be controlled. One debiasing technique aims to decrease biases by encouraging individuals to use controlled processing compared to automatic processing.25 In relation to reducing the FAE, monetary incentives44 and informing participants they will be held accountable for their attributions45 have been linked to the increase of accurate attributions. Training has also shown to reduce cognitive bias. Carey K. Morewedge and colleagues 2015 found that research participants exposed to oneshot training interventions, such as educational videos and debiasing games that taught mitigating strategies, exhibited significant reductions in their commission of six cognitive biases immediately and up to 3 months later.46 Cognitive bias modification refers to the process of modifying cognitive biases in healthy people and also refers to a growing area of psychological nonpharmaceutical therapies for anxiety, depression and addiction called cognitive bias modification therapy CBMT. CBMT is subgroup of therapies within a growing area of psychological therapies based on modifying cognitive processes with or without accompanying medication and talk therapy, sometimes referred to as applied cognitive processing therapies ACPT. Although cognitive bias modification can refer to modifying cognitive processes in healthy individuals, CBMT is a growing area of evidencebased psychological therapy, in which cognitive processes are modified to relieve suffering4748 from serious depression,49 anxiety,50 and addiction.51 CBMT techniques are technologyassisted therapies that are delivered via a computer with or without clinician support. CBM combines evidence and theory from the cognitive model of anxiety,52 cognitive neuroscience,53 and attentional models.54 Cognitive bias modification has also been used to help those with obsessivecompulsive beliefs and obsessivecompulsive disorder.5556 This therapy has shown that it decreases the obsessivecompulsive beliefs and behaviors. Bias arises from various processes that are sometimes difficult to distinguish. These include People do appear to have stable individual differences in their susceptibility to decision biases such as overconfidence, temporal discounting, and bias blind spot.65 That said, these stable levels of bias within individuals are possible to change. Participants in experiments who watched training videos and played debiasing games showed medium to large reductions both immediately and up to three months later in the extent to which they exhibited susceptibility to six cognitive biases anchoring, bias blind spot, confirmation bias, fundamental attribution error, projection bias, and representativeness.66 Individual differences in cognitive bias have also been linked to varying levels of cognitive abilities and functions.67 The Cognitive Reflection Test CRT has been used to help understand the connection between cognitive biases and cognitive ability. There have been inconclusive results when using the Cognitive Reflection Test to understand ability. However, there does seem to be a correlation those who gain a higher score on the Cognitive Reflection Test, have higher cognitive ability and rationalthinking skills. This in turn helps predict the performance on cognitive bias and heuristic tests. Those with higher CRT scores tend to be able to answer more correctly on different heuristic and cognitive bias tests and tasks.68 Age is another individual difference that has an effect on ones ability to be susceptible to cognitive bias. Older individuals tend to be more susceptible to cognitive biases and have less cognitive flexibility. However, older individuals were able to decrease their susceptibility to cognitive biases throughout ongoing trials.69 These experiments had both young and older adults complete a framing task. Younger adults had more cognitive flexibility than older adults. Cognitive flexibility is linked to helping overcome preexisting biases. The list of cognitive biases has long been a topic of critique. In psychology a rationality war70 unfolded between Gerd Gigerenzer and the Kahneman and Tversky school, which pivoted on whether biases are primarily defects of human cognition or the result of behavioural patterns that are actually adaptive or ecologically rational 71 . Gerd Gigerenzer has historically been one of the main opponents to cognitive biases and heuristics.727374 Gigerenzer believes that cognitive biases are not biases, but rules of thumb, or as he would put it gut feelings that can actually help us make accurate decisions in our lives. This debate has recently reignited, with critiques arguing there has been an overemphasis on biases in human cognition.75 A key criticism is the continuous expansion of the list of alleged biases without clear evidence that these behaviors are genuinely biased once the actual problems people face are understood. Advances in economics and cognitive neuroscience now suggest that many behaviors previously labeled as biases might instead represent optimal decisionmaking strategies.76'"
      ]
     },
     "execution_count": 30,
     "metadata": {},
     "output_type": "execute_result"
    }
   ],
   "source": [
    "scraped_data[0]"
   ]
  },
  {
   "cell_type": "code",
   "execution_count": null,
   "id": "bd5c206a",
   "metadata": {},
   "outputs": [],
   "source": []
  }
 ],
 "metadata": {
  "kernelspec": {
   "display_name": "Python 3 (ipykernel)",
   "language": "python",
   "name": "python3"
  },
  "language_info": {
   "codemirror_mode": {
    "name": "ipython",
    "version": 3
   },
   "file_extension": ".py",
   "mimetype": "text/x-python",
   "name": "python",
   "nbconvert_exporter": "python",
   "pygments_lexer": "ipython3",
   "version": "3.11.5"
  }
 },
 "nbformat": 4,
 "nbformat_minor": 5
}
